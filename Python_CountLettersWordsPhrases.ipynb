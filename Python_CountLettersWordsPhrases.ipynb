{
 "cells": [
  {
   "cell_type": "markdown",
   "id": "88c104cc-bf08-4242-821b-b3a40908152a",
   "metadata": {
    "papermill": {},
    "tags": []
   },
   "source": [
    "<img width=\"8%\" alt=\"Naas.png\" src=\"https://raw.githubusercontent.com/jupyter-naas/awesome-notebooks/master/.github/assets/logos/Naas.png\" style=\"border-radius: 15%\">"
   ]
  },
  {
   "cell_type": "markdown",
   "id": "compressed-wilson",
   "metadata": {
    "papermill": {},
    "tags": []
   },
   "source": [
    "# Python - Count letters/words/phrases from text\n",
    "\n",
    "<a href=\"https://bit.ly/3JyWIk6\">Give Feedback</a> | <a href=\"https://github.com/jupyter-naas/awesome-notebooks/issues/new?assignees=&labels=bug&template=bug_report.md&title=Bubble+-+Send+data:+Error+short+description\">Bug report</a>"
   ]
  },
  {
   "cell_type": "markdown",
   "id": "religious-programmer",
   "metadata": {},
   "source": [
    "**Tags:** #letters #words #count #text"
   ]
  },
  {
   "cell_type": "markdown",
   "id": "1fe9f56e-561c-4f52-aef8-b861c9462107",
   "metadata": {},
   "source": [
    "**Author:** [Varsha Kumar](https://www.linkedin.com/in/varsha-kumar-590466305/)"
   ]
  },
  {
   "cell_type": "markdown",
   "id": "0de144be-594d-463e-9849-696fb2f6d1a8",
   "metadata": {},
   "source": [
    "**Last update:** 2024-05-11 (Created: 2024-05-11)"
   ]
  },
  {
   "cell_type": "markdown",
   "id": "31ea7cdb-e10d-43fc-b026-f69249a59736",
   "metadata": {},
   "source": [
    "**Description:** Counts the appearance of a chosen word/letter or phrase in the text."
   ]
  },
  {
   "cell_type": "markdown",
   "id": "d4b89388-5cd5-409a-8169-c53cc8dfab96",
   "metadata": {},
   "source": [
    "**References:**\n",
    "- [Naas Documentation](https://site.naas.ai/)"
   ]
  },
  {
   "cell_type": "markdown",
   "id": "distinguished-truth",
   "metadata": {
    "papermill": {},
    "tags": []
   },
   "source": [
    "## Input"
   ]
  },
  {
   "cell_type": "markdown",
   "id": "numeric-mediterranean",
   "metadata": {},
   "source": [
    "### Import libraries"
   ]
  },
  {
   "cell_type": "code",
   "execution_count": 1,
   "id": "potential-surfing",
   "metadata": {
    "execution": {
     "iopub.execute_input": "2024-05-13T02:09:52.536832Z",
     "iopub.status.busy": "2024-05-13T02:09:52.536552Z",
     "iopub.status.idle": "2024-05-13T02:09:52.540091Z",
     "shell.execute_reply": "2024-05-13T02:09:52.539452Z",
     "shell.execute_reply.started": "2024-05-13T02:09:52.536767Z"
    },
    "tags": []
   },
   "outputs": [],
   "source": [
    "# No imports being used for this code"
   ]
  },
  {
   "cell_type": "markdown",
   "id": "aggressive-trustee",
   "metadata": {},
   "source": [
    "### Setup variables\n",
    "\n",
    "- `text`: Inputed sentence\n",
    "- `chosenText`: Chosen letter/word/phrase to count for"
   ]
  },
  {
   "cell_type": "code",
   "execution_count": 11,
   "id": "continuous-melbourne",
   "metadata": {
    "execution": {
     "iopub.execute_input": "2024-05-13T02:12:10.527146Z",
     "iopub.status.busy": "2024-05-13T02:12:10.526918Z",
     "iopub.status.idle": "2024-05-13T02:12:10.530088Z",
     "shell.execute_reply": "2024-05-13T02:12:10.529420Z",
     "shell.execute_reply.started": "2024-05-13T02:12:10.527122Z"
    },
    "tags": []
   },
   "outputs": [],
   "source": [
    "text = \"This is an example text. This text contains the phrase 'example text' multiple times.\"\n",
    "chosenText = \"example text\""
   ]
  },
  {
   "cell_type": "markdown",
   "id": "registered-showcase",
   "metadata": {},
   "source": [
    "## Model"
   ]
  },
  {
   "cell_type": "markdown",
   "id": "tested-astrology",
   "metadata": {},
   "source": [
    "### Count the appearances of the chosen text in a sentence"
   ]
  },
  {
   "cell_type": "code",
   "execution_count": 9,
   "id": "crude-louisville",
   "metadata": {
    "execution": {
     "iopub.execute_input": "2024-05-13T02:11:10.767766Z",
     "iopub.status.busy": "2024-05-13T02:11:10.767530Z",
     "iopub.status.idle": "2024-05-13T02:11:10.771264Z",
     "shell.execute_reply": "2024-05-13T02:11:10.770584Z",
     "shell.execute_reply.started": "2024-05-13T02:11:10.767743Z"
    },
    "papermill": {},
    "tags": []
   },
   "outputs": [],
   "source": [
    "def count_phrase_occurrences(text, chosenText):\n",
    "    count = 0\n",
    "    phrases = text.split(chosenText)\n",
    "    count = len(phrases) - 1\n",
    "    \n",
    "    return count\n",
    "\n",
    "occurrences = count_phrase_occurrences(text, chosenText)"
   ]
  },
  {
   "cell_type": "markdown",
   "id": "lonely-pacific",
   "metadata": {
    "execution": {
     "iopub.execute_input": "2021-07-02T23:32:10.789097Z",
     "iopub.status.busy": "2021-07-02T23:32:10.788829Z",
     "iopub.status.idle": "2021-07-02T23:32:10.796900Z",
     "shell.execute_reply": "2021-07-02T23:32:10.796358Z",
     "shell.execute_reply.started": "2021-07-02T23:32:10.789033Z"
    }
   },
   "source": [
    "## Output"
   ]
  },
  {
   "cell_type": "markdown",
   "id": "890f7c86-b7bb-4f5d-9a1b-e492dd9580fd",
   "metadata": {},
   "source": [
    "### Text count"
   ]
  },
  {
   "cell_type": "code",
   "execution_count": 10,
   "id": "9c4e3b7b-6440-4844-8054-265f1aec65eb",
   "metadata": {
    "execution": {
     "iopub.execute_input": "2024-05-13T02:11:15.030709Z",
     "iopub.status.busy": "2024-05-13T02:11:15.030482Z",
     "iopub.status.idle": "2024-05-13T02:11:15.035929Z",
     "shell.execute_reply": "2024-05-13T02:11:15.035351Z",
     "shell.execute_reply.started": "2024-05-13T02:11:15.030686Z"
    },
    "tags": []
   },
   "outputs": [
    {
     "name": "stdout",
     "output_type": "stream",
     "text": [
      "'example text' appears 2 times in the text.\n"
     ]
    }
   ],
   "source": [
    "print(f\"'{chosenText}' appears {occurrences} times in the text.\")"
   ]
  }
 ],
 "metadata": {
  "kernelspec": {
   "display_name": "Python 3",
   "language": "python",
   "name": "python3"
  },
  "language_info": {
   "codemirror_mode": {
    "name": "ipython",
    "version": 3
   },
   "file_extension": ".py",
   "mimetype": "text/x-python",
   "name": "python",
   "nbconvert_exporter": "python",
   "pygments_lexer": "ipython3",
   "version": "3.9.6"
  },
  "papermill": {
   "default_parameters": {},
   "environment_variables": {},
   "parameters": {},
   "version": "2.3.3"
  },
  "widgets": {
   "application/vnd.jupyter.widget-state+json": {
    "state": {},
    "version_major": 2,
    "version_minor": 0
   }
  }
 },
 "nbformat": 4,
 "nbformat_minor": 5
}
